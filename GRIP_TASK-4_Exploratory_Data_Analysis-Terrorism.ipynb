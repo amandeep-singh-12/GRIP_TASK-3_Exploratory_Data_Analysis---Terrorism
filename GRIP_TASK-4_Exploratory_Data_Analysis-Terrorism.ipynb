{
 "cells": [
  {
   "cell_type": "markdown",
   "metadata": {},
   "source": [
    "# Importing libraries and reading dataset"
   ]
  },
  {
   "cell_type": "code",
   "execution_count": 48,
   "metadata": {},
   "outputs": [],
   "source": [
    "import numpy as np\n",
    "import pandas as pd\n",
    "import matplotlib.pyplot as plt\n",
    "import seaborn as sns\n"
   ]
  },
  {
   "cell_type": "code",
   "execution_count": 49,
   "metadata": {},
   "outputs": [
    {
     "name": "stderr",
     "output_type": "stream",
     "text": [
      "C:\\Users\\lenovo\\anaconda3\\New folder\\lib\\site-packages\\IPython\\core\\interactiveshell.py:3063: DtypeWarning: Columns (4,6,31,33,61,62,63,76,79,90,92,94,96,114,115,121) have mixed types.Specify dtype option on import or set low_memory=False.\n",
      "  interactivity=interactivity, compiler=compiler, result=result)\n"
     ]
    }
   ],
   "source": [
    "df = pd.read_csv(\"globalterrorismdb_0718dist.csv\", encoding = \"ISO-8859-1\")"
   ]
  },
  {
   "cell_type": "code",
   "execution_count": 50,
   "metadata": {},
   "outputs": [
    {
     "data": {
      "text/html": [
       "<div>\n",
       "<style scoped>\n",
       "    .dataframe tbody tr th:only-of-type {\n",
       "        vertical-align: middle;\n",
       "    }\n",
       "\n",
       "    .dataframe tbody tr th {\n",
       "        vertical-align: top;\n",
       "    }\n",
       "\n",
       "    .dataframe thead th {\n",
       "        text-align: right;\n",
       "    }\n",
       "</style>\n",
       "<table border=\"1\" class=\"dataframe\">\n",
       "  <thead>\n",
       "    <tr style=\"text-align: right;\">\n",
       "      <th></th>\n",
       "      <th>eventid</th>\n",
       "      <th>iyear</th>\n",
       "      <th>imonth</th>\n",
       "      <th>iday</th>\n",
       "      <th>approxdate</th>\n",
       "      <th>extended</th>\n",
       "      <th>resolution</th>\n",
       "      <th>country</th>\n",
       "      <th>country_txt</th>\n",
       "      <th>region</th>\n",
       "      <th>...</th>\n",
       "      <th>addnotes</th>\n",
       "      <th>scite1</th>\n",
       "      <th>scite2</th>\n",
       "      <th>scite3</th>\n",
       "      <th>dbsource</th>\n",
       "      <th>INT_LOG</th>\n",
       "      <th>INT_IDEO</th>\n",
       "      <th>INT_MISC</th>\n",
       "      <th>INT_ANY</th>\n",
       "      <th>related</th>\n",
       "    </tr>\n",
       "  </thead>\n",
       "  <tbody>\n",
       "    <tr>\n",
       "      <th>0</th>\n",
       "      <td>197000000001</td>\n",
       "      <td>1970</td>\n",
       "      <td>7</td>\n",
       "      <td>2</td>\n",
       "      <td>NaN</td>\n",
       "      <td>0</td>\n",
       "      <td>NaN</td>\n",
       "      <td>58</td>\n",
       "      <td>Dominican Republic</td>\n",
       "      <td>2</td>\n",
       "      <td>...</td>\n",
       "      <td>NaN</td>\n",
       "      <td>NaN</td>\n",
       "      <td>NaN</td>\n",
       "      <td>NaN</td>\n",
       "      <td>PGIS</td>\n",
       "      <td>0</td>\n",
       "      <td>0</td>\n",
       "      <td>0</td>\n",
       "      <td>0</td>\n",
       "      <td>NaN</td>\n",
       "    </tr>\n",
       "    <tr>\n",
       "      <th>1</th>\n",
       "      <td>197000000002</td>\n",
       "      <td>1970</td>\n",
       "      <td>0</td>\n",
       "      <td>0</td>\n",
       "      <td>NaN</td>\n",
       "      <td>0</td>\n",
       "      <td>NaN</td>\n",
       "      <td>130</td>\n",
       "      <td>Mexico</td>\n",
       "      <td>1</td>\n",
       "      <td>...</td>\n",
       "      <td>NaN</td>\n",
       "      <td>NaN</td>\n",
       "      <td>NaN</td>\n",
       "      <td>NaN</td>\n",
       "      <td>PGIS</td>\n",
       "      <td>0</td>\n",
       "      <td>1</td>\n",
       "      <td>1</td>\n",
       "      <td>1</td>\n",
       "      <td>NaN</td>\n",
       "    </tr>\n",
       "    <tr>\n",
       "      <th>2</th>\n",
       "      <td>197001000001</td>\n",
       "      <td>1970</td>\n",
       "      <td>1</td>\n",
       "      <td>0</td>\n",
       "      <td>NaN</td>\n",
       "      <td>0</td>\n",
       "      <td>NaN</td>\n",
       "      <td>160</td>\n",
       "      <td>Philippines</td>\n",
       "      <td>5</td>\n",
       "      <td>...</td>\n",
       "      <td>NaN</td>\n",
       "      <td>NaN</td>\n",
       "      <td>NaN</td>\n",
       "      <td>NaN</td>\n",
       "      <td>PGIS</td>\n",
       "      <td>-9</td>\n",
       "      <td>-9</td>\n",
       "      <td>1</td>\n",
       "      <td>1</td>\n",
       "      <td>NaN</td>\n",
       "    </tr>\n",
       "    <tr>\n",
       "      <th>3</th>\n",
       "      <td>197001000002</td>\n",
       "      <td>1970</td>\n",
       "      <td>1</td>\n",
       "      <td>0</td>\n",
       "      <td>NaN</td>\n",
       "      <td>0</td>\n",
       "      <td>NaN</td>\n",
       "      <td>78</td>\n",
       "      <td>Greece</td>\n",
       "      <td>8</td>\n",
       "      <td>...</td>\n",
       "      <td>NaN</td>\n",
       "      <td>NaN</td>\n",
       "      <td>NaN</td>\n",
       "      <td>NaN</td>\n",
       "      <td>PGIS</td>\n",
       "      <td>-9</td>\n",
       "      <td>-9</td>\n",
       "      <td>1</td>\n",
       "      <td>1</td>\n",
       "      <td>NaN</td>\n",
       "    </tr>\n",
       "    <tr>\n",
       "      <th>4</th>\n",
       "      <td>197001000003</td>\n",
       "      <td>1970</td>\n",
       "      <td>1</td>\n",
       "      <td>0</td>\n",
       "      <td>NaN</td>\n",
       "      <td>0</td>\n",
       "      <td>NaN</td>\n",
       "      <td>101</td>\n",
       "      <td>Japan</td>\n",
       "      <td>4</td>\n",
       "      <td>...</td>\n",
       "      <td>NaN</td>\n",
       "      <td>NaN</td>\n",
       "      <td>NaN</td>\n",
       "      <td>NaN</td>\n",
       "      <td>PGIS</td>\n",
       "      <td>-9</td>\n",
       "      <td>-9</td>\n",
       "      <td>1</td>\n",
       "      <td>1</td>\n",
       "      <td>NaN</td>\n",
       "    </tr>\n",
       "  </tbody>\n",
       "</table>\n",
       "<p>5 rows × 135 columns</p>\n",
       "</div>"
      ],
      "text/plain": [
       "        eventid  iyear  imonth  iday approxdate  extended resolution  country  \\\n",
       "0  197000000001   1970       7     2        NaN         0        NaN       58   \n",
       "1  197000000002   1970       0     0        NaN         0        NaN      130   \n",
       "2  197001000001   1970       1     0        NaN         0        NaN      160   \n",
       "3  197001000002   1970       1     0        NaN         0        NaN       78   \n",
       "4  197001000003   1970       1     0        NaN         0        NaN      101   \n",
       "\n",
       "          country_txt  region  ... addnotes scite1 scite2  scite3  dbsource  \\\n",
       "0  Dominican Republic       2  ...      NaN    NaN    NaN     NaN      PGIS   \n",
       "1              Mexico       1  ...      NaN    NaN    NaN     NaN      PGIS   \n",
       "2         Philippines       5  ...      NaN    NaN    NaN     NaN      PGIS   \n",
       "3              Greece       8  ...      NaN    NaN    NaN     NaN      PGIS   \n",
       "4               Japan       4  ...      NaN    NaN    NaN     NaN      PGIS   \n",
       "\n",
       "   INT_LOG  INT_IDEO INT_MISC INT_ANY  related  \n",
       "0        0         0        0       0      NaN  \n",
       "1        0         1        1       1      NaN  \n",
       "2       -9        -9        1       1      NaN  \n",
       "3       -9        -9        1       1      NaN  \n",
       "4       -9        -9        1       1      NaN  \n",
       "\n",
       "[5 rows x 135 columns]"
      ]
     },
     "execution_count": 50,
     "metadata": {},
     "output_type": "execute_result"
    }
   ],
   "source": [
    "df.head()"
   ]
  },
  {
   "cell_type": "code",
   "execution_count": 51,
   "metadata": {},
   "outputs": [
    {
     "data": {
      "text/plain": [
       "(181691, 135)"
      ]
     },
     "execution_count": 51,
     "metadata": {},
     "output_type": "execute_result"
    }
   ],
   "source": [
    "df.shape"
   ]
  },
  {
   "cell_type": "code",
   "execution_count": 52,
   "metadata": {},
   "outputs": [
    {
     "data": {
      "text/plain": [
       "eventid       False\n",
       "iyear         False\n",
       "imonth        False\n",
       "iday          False\n",
       "approxdate     True\n",
       "              ...  \n",
       "INT_LOG       False\n",
       "INT_IDEO      False\n",
       "INT_MISC      False\n",
       "INT_ANY       False\n",
       "related        True\n",
       "Length: 135, dtype: bool"
      ]
     },
     "execution_count": 52,
     "metadata": {},
     "output_type": "execute_result"
    }
   ],
   "source": [
    "df.isnull().any()"
   ]
  },
  {
   "cell_type": "code",
   "execution_count": 53,
   "metadata": {
    "scrolled": true
   },
   "outputs": [
    {
     "data": {
      "text/plain": [
       "['approxdate',\n",
       " 'resolution',\n",
       " 'provstate',\n",
       " 'city',\n",
       " 'latitude',\n",
       " 'longitude',\n",
       " 'specificity',\n",
       " 'location',\n",
       " 'summary',\n",
       " 'doubtterr',\n",
       " 'alternative',\n",
       " 'alternative_txt',\n",
       " 'multiple',\n",
       " 'attacktype2',\n",
       " 'attacktype2_txt',\n",
       " 'attacktype3',\n",
       " 'attacktype3_txt',\n",
       " 'targsubtype1',\n",
       " 'targsubtype1_txt',\n",
       " 'corp1',\n",
       " 'target1',\n",
       " 'natlty1',\n",
       " 'natlty1_txt',\n",
       " 'targtype2',\n",
       " 'targtype2_txt',\n",
       " 'targsubtype2',\n",
       " 'targsubtype2_txt',\n",
       " 'corp2',\n",
       " 'target2',\n",
       " 'natlty2',\n",
       " 'natlty2_txt',\n",
       " 'targtype3',\n",
       " 'targtype3_txt',\n",
       " 'targsubtype3',\n",
       " 'targsubtype3_txt',\n",
       " 'corp3',\n",
       " 'target3',\n",
       " 'natlty3',\n",
       " 'natlty3_txt',\n",
       " 'gsubname',\n",
       " 'gname2',\n",
       " 'gsubname2',\n",
       " 'gname3',\n",
       " 'gsubname3',\n",
       " 'motive',\n",
       " 'guncertain1',\n",
       " 'guncertain2',\n",
       " 'guncertain3',\n",
       " 'nperps',\n",
       " 'nperpcap',\n",
       " 'claimed',\n",
       " 'claimmode',\n",
       " 'claimmode_txt',\n",
       " 'claim2',\n",
       " 'claimmode2',\n",
       " 'claimmode2_txt',\n",
       " 'claim3',\n",
       " 'claimmode3',\n",
       " 'claimmode3_txt',\n",
       " 'compclaim',\n",
       " 'weapsubtype1',\n",
       " 'weapsubtype1_txt',\n",
       " 'weaptype2',\n",
       " 'weaptype2_txt',\n",
       " 'weapsubtype2',\n",
       " 'weapsubtype2_txt',\n",
       " 'weaptype3',\n",
       " 'weaptype3_txt',\n",
       " 'weapsubtype3',\n",
       " 'weapsubtype3_txt',\n",
       " 'weaptype4',\n",
       " 'weaptype4_txt',\n",
       " 'weapsubtype4',\n",
       " 'weapsubtype4_txt',\n",
       " 'weapdetail',\n",
       " 'nkill',\n",
       " 'nkillus',\n",
       " 'nkillter',\n",
       " 'nwound',\n",
       " 'nwoundus',\n",
       " 'nwoundte',\n",
       " 'propextent',\n",
       " 'propextent_txt',\n",
       " 'propvalue',\n",
       " 'propcomment',\n",
       " 'ishostkid',\n",
       " 'nhostkid',\n",
       " 'nhostkidus',\n",
       " 'nhours',\n",
       " 'ndays',\n",
       " 'divert',\n",
       " 'kidhijcountry',\n",
       " 'ransom',\n",
       " 'ransomamt',\n",
       " 'ransomamtus',\n",
       " 'ransompaid',\n",
       " 'ransompaidus',\n",
       " 'ransomnote',\n",
       " 'hostkidoutcome',\n",
       " 'hostkidoutcome_txt',\n",
       " 'nreleased',\n",
       " 'addnotes',\n",
       " 'scite1',\n",
       " 'scite2',\n",
       " 'scite3',\n",
       " 'related']"
      ]
     },
     "execution_count": 53,
     "metadata": {},
     "output_type": "execute_result"
    }
   ],
   "source": [
    "name_lis = list(df.columns[df.isnull().any()])\n",
    "name_lis"
   ]
  },
  {
   "cell_type": "code",
   "execution_count": 54,
   "metadata": {
    "scrolled": true
   },
   "outputs": [
    {
     "data": {
      "text/plain": [
       "{'approxdate': 94.91499303762983,\n",
       " 'resolution': 98.77814531264619,\n",
       " 'alternative': 84.03278093026071,\n",
       " 'alternative_txt': 84.03278093026071,\n",
       " 'attacktype2': 96.52486914596761,\n",
       " 'attacktype2_txt': 96.52486914596761,\n",
       " 'attacktype3': 99.7644352224381,\n",
       " 'attacktype3_txt': 99.7644352224381,\n",
       " 'targtype2': 93.86650962348162,\n",
       " 'targtype2_txt': 93.86650962348162,\n",
       " 'targsubtype2': 94.11913633586694,\n",
       " 'targsubtype2_txt': 94.11913633586694,\n",
       " 'corp2': 94.43175501263134,\n",
       " 'target2': 93.93475736277526,\n",
       " 'natlty2': 94.04043128168153,\n",
       " 'natlty2_txt': 94.04043128168153,\n",
       " 'targtype3': 99.35274724669907,\n",
       " 'targtype3_txt': 99.35274724669907,\n",
       " 'targsubtype3': 99.39622766124904,\n",
       " 'targsubtype3_txt': 99.39622766124904,\n",
       " 'corp3': 99.4353049958446,\n",
       " 'target3': 99.35329763169337,\n",
       " 'natlty3': 99.36870841153387,\n",
       " 'natlty3_txt': 99.36870841153387,\n",
       " 'gsubname': 96.75823238355228,\n",
       " 'gname2': 98.89207500646702,\n",
       " 'gsubname2': 99.91193840091144,\n",
       " 'gname3': 99.82167526184567,\n",
       " 'gsubname3': 99.98899230011394,\n",
       " 'motive': 72.17198430301997,\n",
       " 'guncertain2': 98.92399733613662,\n",
       " 'guncertain3': 99.82387680182288,\n",
       " 'claimmode': 89.49700315370602,\n",
       " 'claimmode_txt': 89.49700315370602,\n",
       " 'claim2': 98.95977236076635,\n",
       " 'claimmode2': 99.66096284350904,\n",
       " 'claimmode2_txt': 99.66096284350904,\n",
       " 'claim3': 99.82497757181147,\n",
       " 'claimmode3': 99.92679879575763,\n",
       " 'claimmode3_txt': 99.92679879575763,\n",
       " 'compclaim': 97.33668701256529,\n",
       " 'weaptype2': 92.77509617977775,\n",
       " 'weaptype2_txt': 92.77509617977775,\n",
       " 'weapsubtype2': 93.64745639574883,\n",
       " 'weapsubtype2_txt': 93.64745639574883,\n",
       " 'weaptype3': 98.97463275561255,\n",
       " 'weaptype3_txt': 98.97463275561255,\n",
       " 'weapsubtype3': 99.06819820464415,\n",
       " 'weapsubtype3_txt': 99.06819820464415,\n",
       " 'weaptype4': 99.95982189541584,\n",
       " 'weaptype4_txt': 99.95982189541584,\n",
       " 'weapsubtype4': 99.96147305039875,\n",
       " 'weapsubtype4_txt': 99.96147305039875,\n",
       " 'propvalue': 78.54103945710024,\n",
       " 'nhostkid': 92.53017485731269,\n",
       " 'nhostkidus': 92.56044603199939,\n",
       " 'nhours': 97.76378576814481,\n",
       " 'ndays': 95.52867230627824,\n",
       " 'divert': 99.82167526184567,\n",
       " 'kidhijcountry': 98.18097759382688,\n",
       " 'ransomamt': 99.25698025769026,\n",
       " 'ransomamtus': 99.69013324820712,\n",
       " 'ransompaid': 99.57400201440907,\n",
       " 'ransompaidus': 99.69618748314446,\n",
       " 'ransomnote': 99.71710211292799,\n",
       " 'hostkidoutcome': 93.95071852761006,\n",
       " 'hostkidoutcome_txt': 93.95071852761006,\n",
       " 'nreleased': 94.27599605924344,\n",
       " 'addnotes': 84.43015889614786,\n",
       " 'scite3': 76.04944658788823,\n",
       " 'related': 86.21946051262859}"
      ]
     },
     "execution_count": 54,
     "metadata": {},
     "output_type": "execute_result"
    }
   ],
   "source": [
    "null = dict()\n",
    "for i in name_lis:\n",
    "    percent_null = df[i].isnull().sum()/len(df[i])*100\n",
    "    if percent_null >= 70:\n",
    "        null[i]=percent_null\n",
    "\n",
    "null"
   ]
  },
  {
   "cell_type": "code",
   "execution_count": 55,
   "metadata": {
    "scrolled": true
   },
   "outputs": [
    {
     "name": "stdout",
     "output_type": "stream",
     "text": [
      "Index(['eventid', 'iyear', 'imonth', 'iday', 'approxdate', 'extended',\n",
      "       'resolution', 'country', 'country_txt', 'region',\n",
      "       ...\n",
      "       'addnotes', 'scite1', 'scite2', 'scite3', 'dbsource', 'INT_LOG',\n",
      "       'INT_IDEO', 'INT_MISC', 'INT_ANY', 'related'],\n",
      "      dtype='object', length=135)\n"
     ]
    }
   ],
   "source": [
    "print(df.columns)"
   ]
  },
  {
   "cell_type": "markdown",
   "metadata": {},
   "source": [
    "### Chosing only relevent columns"
   ]
  },
  {
   "cell_type": "code",
   "execution_count": 56,
   "metadata": {},
   "outputs": [
    {
     "data": {
      "text/html": [
       "<div>\n",
       "<style scoped>\n",
       "    .dataframe tbody tr th:only-of-type {\n",
       "        vertical-align: middle;\n",
       "    }\n",
       "\n",
       "    .dataframe tbody tr th {\n",
       "        vertical-align: top;\n",
       "    }\n",
       "\n",
       "    .dataframe thead th {\n",
       "        text-align: right;\n",
       "    }\n",
       "</style>\n",
       "<table border=\"1\" class=\"dataframe\">\n",
       "  <thead>\n",
       "    <tr style=\"text-align: right;\">\n",
       "      <th></th>\n",
       "      <th>Year</th>\n",
       "      <th>Month</th>\n",
       "      <th>Day</th>\n",
       "      <th>Country</th>\n",
       "      <th>Region</th>\n",
       "      <th>City</th>\n",
       "      <th>latitude</th>\n",
       "      <th>longitude</th>\n",
       "      <th>AttackType</th>\n",
       "      <th>Killed</th>\n",
       "      <th>Wounded</th>\n",
       "      <th>Casualities</th>\n",
       "      <th>Target</th>\n",
       "      <th>Group</th>\n",
       "      <th>Target_type</th>\n",
       "      <th>Weapon_type</th>\n",
       "      <th>Motive</th>\n",
       "    </tr>\n",
       "  </thead>\n",
       "  <tbody>\n",
       "    <tr>\n",
       "      <th>0</th>\n",
       "      <td>1970</td>\n",
       "      <td>7</td>\n",
       "      <td>2</td>\n",
       "      <td>Dominican Republic</td>\n",
       "      <td>Central America &amp; Caribbean</td>\n",
       "      <td>Santo Domingo</td>\n",
       "      <td>18.456792</td>\n",
       "      <td>-69.951164</td>\n",
       "      <td>Assassination</td>\n",
       "      <td>1.0</td>\n",
       "      <td>0.0</td>\n",
       "      <td>1.0</td>\n",
       "      <td>Julio Guzman</td>\n",
       "      <td>MANO-D</td>\n",
       "      <td>Private Citizens &amp; Property</td>\n",
       "      <td>Unknown</td>\n",
       "      <td>NaN</td>\n",
       "    </tr>\n",
       "    <tr>\n",
       "      <th>1</th>\n",
       "      <td>1970</td>\n",
       "      <td>0</td>\n",
       "      <td>0</td>\n",
       "      <td>Mexico</td>\n",
       "      <td>North America</td>\n",
       "      <td>Mexico city</td>\n",
       "      <td>19.371887</td>\n",
       "      <td>-99.086624</td>\n",
       "      <td>Hostage Taking (Kidnapping)</td>\n",
       "      <td>0.0</td>\n",
       "      <td>0.0</td>\n",
       "      <td>0.0</td>\n",
       "      <td>Nadine Chaval, daughter</td>\n",
       "      <td>23rd of September Communist League</td>\n",
       "      <td>Government (Diplomatic)</td>\n",
       "      <td>Unknown</td>\n",
       "      <td>NaN</td>\n",
       "    </tr>\n",
       "    <tr>\n",
       "      <th>2</th>\n",
       "      <td>1970</td>\n",
       "      <td>1</td>\n",
       "      <td>0</td>\n",
       "      <td>Philippines</td>\n",
       "      <td>Southeast Asia</td>\n",
       "      <td>Unknown</td>\n",
       "      <td>15.478598</td>\n",
       "      <td>120.599741</td>\n",
       "      <td>Assassination</td>\n",
       "      <td>1.0</td>\n",
       "      <td>0.0</td>\n",
       "      <td>1.0</td>\n",
       "      <td>Employee</td>\n",
       "      <td>Unknown</td>\n",
       "      <td>Journalists &amp; Media</td>\n",
       "      <td>Unknown</td>\n",
       "      <td>NaN</td>\n",
       "    </tr>\n",
       "    <tr>\n",
       "      <th>3</th>\n",
       "      <td>1970</td>\n",
       "      <td>1</td>\n",
       "      <td>0</td>\n",
       "      <td>Greece</td>\n",
       "      <td>Western Europe</td>\n",
       "      <td>Athens</td>\n",
       "      <td>37.997490</td>\n",
       "      <td>23.762728</td>\n",
       "      <td>Bombing/Explosion</td>\n",
       "      <td>NaN</td>\n",
       "      <td>NaN</td>\n",
       "      <td>NaN</td>\n",
       "      <td>U.S. Embassy</td>\n",
       "      <td>Unknown</td>\n",
       "      <td>Government (Diplomatic)</td>\n",
       "      <td>Explosives</td>\n",
       "      <td>NaN</td>\n",
       "    </tr>\n",
       "    <tr>\n",
       "      <th>4</th>\n",
       "      <td>1970</td>\n",
       "      <td>1</td>\n",
       "      <td>0</td>\n",
       "      <td>Japan</td>\n",
       "      <td>East Asia</td>\n",
       "      <td>Fukouka</td>\n",
       "      <td>33.580412</td>\n",
       "      <td>130.396361</td>\n",
       "      <td>Facility/Infrastructure Attack</td>\n",
       "      <td>NaN</td>\n",
       "      <td>NaN</td>\n",
       "      <td>NaN</td>\n",
       "      <td>U.S. Consulate</td>\n",
       "      <td>Unknown</td>\n",
       "      <td>Government (Diplomatic)</td>\n",
       "      <td>Incendiary</td>\n",
       "      <td>NaN</td>\n",
       "    </tr>\n",
       "  </tbody>\n",
       "</table>\n",
       "</div>"
      ],
      "text/plain": [
       "   Year  Month  Day             Country                       Region  \\\n",
       "0  1970      7    2  Dominican Republic  Central America & Caribbean   \n",
       "1  1970      0    0              Mexico                North America   \n",
       "2  1970      1    0         Philippines               Southeast Asia   \n",
       "3  1970      1    0              Greece               Western Europe   \n",
       "4  1970      1    0               Japan                    East Asia   \n",
       "\n",
       "            City   latitude   longitude                      AttackType  \\\n",
       "0  Santo Domingo  18.456792  -69.951164                   Assassination   \n",
       "1    Mexico city  19.371887  -99.086624     Hostage Taking (Kidnapping)   \n",
       "2        Unknown  15.478598  120.599741                   Assassination   \n",
       "3         Athens  37.997490   23.762728               Bombing/Explosion   \n",
       "4        Fukouka  33.580412  130.396361  Facility/Infrastructure Attack   \n",
       "\n",
       "   Killed  Wounded  Casualities                   Target  \\\n",
       "0     1.0      0.0          1.0             Julio Guzman   \n",
       "1     0.0      0.0          0.0  Nadine Chaval, daughter   \n",
       "2     1.0      0.0          1.0                 Employee   \n",
       "3     NaN      NaN          NaN             U.S. Embassy   \n",
       "4     NaN      NaN          NaN           U.S. Consulate   \n",
       "\n",
       "                                Group                  Target_type  \\\n",
       "0                              MANO-D  Private Citizens & Property   \n",
       "1  23rd of September Communist League      Government (Diplomatic)   \n",
       "2                             Unknown          Journalists & Media   \n",
       "3                             Unknown      Government (Diplomatic)   \n",
       "4                             Unknown      Government (Diplomatic)   \n",
       "\n",
       "  Weapon_type Motive  \n",
       "0     Unknown    NaN  \n",
       "1     Unknown    NaN  \n",
       "2     Unknown    NaN  \n",
       "3  Explosives    NaN  \n",
       "4  Incendiary    NaN  "
      ]
     },
     "execution_count": 56,
     "metadata": {},
     "output_type": "execute_result"
    }
   ],
   "source": [
    "df.rename(columns={'iyear':'Year','imonth':'Month','city':'City','iday':'Day','country_txt':'Country','region_txt':'Region','attacktype1_txt':'AttackType','target1':'Target','nkill':'Killed','nwound':'Wounded','summary':'Summary','gname':'Group','targtype1_txt':'Target_type','weaptype1_txt':'Weapon_type','motive':'Motive'},inplace=True)\n",
    "df['Casualities'] = df.Killed + df.Wounded\n",
    "df= df[['Year','Month','Day','Country','Region','City','latitude','longitude','AttackType','Killed','Wounded','Casualities','Target','Group','Target_type','Weapon_type', 'Motive']]\n",
    "\n",
    "df.head()"
   ]
  },
  {
   "cell_type": "code",
   "execution_count": 11,
   "metadata": {
    "scrolled": true
   },
   "outputs": [
    {
     "data": {
      "text/plain": [
       "2014    16903\n",
       "2015    14965\n",
       "2016    13587\n",
       "2013    12036\n",
       "2017    10900\n",
       "2012     8522\n",
       "2011     5076\n",
       "1992     5071\n",
       "2010     4826\n",
       "2008     4805\n",
       "2009     4721\n",
       "1991     4683\n",
       "1989     4324\n",
       "1990     3887\n",
       "1988     3721\n",
       "1984     3495\n",
       "1994     3456\n",
       "2007     3242\n",
       "1997     3197\n",
       "1987     3183\n",
       "1995     3081\n",
       "1996     3058\n",
       "1985     2915\n",
       "1983     2870\n",
       "1986     2860\n",
       "2006     2758\n",
       "1979     2662\n",
       "1980     2662\n",
       "1981     2586\n",
       "1982     2544\n",
       "2005     2017\n",
       "2001     1906\n",
       "2000     1814\n",
       "1978     1526\n",
       "1999     1395\n",
       "2002     1333\n",
       "1977     1319\n",
       "2003     1278\n",
       "2004     1166\n",
       "1998      934\n",
       "1976      923\n",
       "1975      740\n",
       "1970      651\n",
       "1974      581\n",
       "1972      568\n",
       "1973      473\n",
       "1971      471\n",
       "Name: Year, dtype: int64"
      ]
     },
     "execution_count": 11,
     "metadata": {},
     "output_type": "execute_result"
    }
   ],
   "source": [
    "df['Year'].value_counts()"
   ]
  },
  {
   "cell_type": "markdown",
   "metadata": {},
   "source": [
    "## Number of attacks in Years"
   ]
  },
  {
   "cell_type": "code",
   "execution_count": 12,
   "metadata": {
    "scrolled": false
   },
   "outputs": [
    {
     "data": {
      "text/plain": [
       "Text(0, 0.5, 'Number of Attacks')"
      ]
     },
     "execution_count": 12,
     "metadata": {},
     "output_type": "execute_result"
    },
    {
     "data": {
      "image/png": "[encoded data removed]",
      "text/plain": [
       "<Figure size 1080x576 with 1 Axes>"
      ]
     },
     "metadata": {
      "needs_background": "light"
     },
     "output_type": "display_data"
    }
   ],
   "source": [
    "plt.figure(figsize=(15, 8))\n",
    "\n",
    "sns.countplot(df['Year'])\n",
    "plt.xticks(rotation = 90)\n",
    "plt.ylabel(\"Number of Attacks\")"
   ]
  },
  {
   "cell_type": "markdown",
   "metadata": {},
   "source": [
    "### Number of attacks were maximum between 2012-2017(highest were in 2014)"
   ]
  },
  {
   "cell_type": "code",
   "execution_count": 13,
   "metadata": {},
   "outputs": [
    {
     "data": {
      "text/plain": [
       "205"
      ]
     },
     "execution_count": 13,
     "metadata": {},
     "output_type": "execute_result"
    }
   ],
   "source": [
    "len(df['Country'].unique())"
   ]
  },
  {
   "cell_type": "markdown",
   "metadata": {},
   "source": [
    "#### There are 205 countries in dataset. Let's see only top 20 countries"
   ]
  },
  {
   "cell_type": "code",
   "execution_count": 59,
   "metadata": {},
   "outputs": [
    {
     "data": {
      "text/plain": [
       "Iraq              24636\n",
       "Pakistan          14368\n",
       "Afghanistan       12731\n",
       "India             11960\n",
       "Colombia           8306\n",
       "Philippines        6908\n",
       "Peru               6096\n",
       "El Salvador        5320\n",
       "United Kingdom     5235\n",
       "Turkey             4292\n",
       "Somalia            4142\n",
       "Nigeria            3907\n",
       "Thailand           3849\n",
       "Yemen              3347\n",
       "Spain              3249\n",
       "Sri Lanka          3022\n",
       "United States      2836\n",
       "Algeria            2743\n",
       "France             2693\n",
       "Egypt              2479\n",
       "Name: Country, dtype: int64"
      ]
     },
     "execution_count": 59,
     "metadata": {},
     "output_type": "execute_result"
    }
   ],
   "source": [
    "df['Country'].value_counts()[:20]"
   ]
  },
  {
   "cell_type": "markdown",
   "metadata": {},
   "source": [
    "## Top 20 Countries affected by terrorism"
   ]
  },
  {
   "cell_type": "code",
   "execution_count": 15,
   "metadata": {},
   "outputs": [
    {
     "data": {
      "text/plain": [
       "Text(0, 0.5, 'Number of Attacks')"
      ]
     },
     "execution_count": 15,
     "metadata": {},
     "output_type": "execute_result"
    },
    {
     "data": {
      "image/png": "[encoded data removed]",
      "text/plain": [
       "<Figure size 1008x504 with 1 Axes>"
      ]
     },
     "metadata": {
      "needs_background": "light"
     },
     "output_type": "display_data"
    }
   ],
   "source": [
    "plt.figure(figsize=(14, 7))\n",
    "\n",
    "df['Country'].value_counts()[:20].plot(kind = 'bar')\n",
    "plt.title(\"Top 20 Countries affected by terrorism\")\n",
    "plt.xlabel(\"Country\")\n",
    "plt.ylabel(\"Number of Attacks\")"
   ]
  },
  {
   "cell_type": "markdown",
   "metadata": {},
   "source": [
    "### Iraq is the most affected country by terrorism followed by Pakistan. Afganistan and India"
   ]
  },
  {
   "cell_type": "code",
   "execution_count": 16,
   "metadata": {},
   "outputs": [
    {
     "data": {
      "text/plain": [
       "Middle East & North Africa     50474\n",
       "South Asia                     44974\n",
       "South America                  18978\n",
       "Sub-Saharan Africa             17550\n",
       "Western Europe                 16639\n",
       "Southeast Asia                 12485\n",
       "Central America & Caribbean    10344\n",
       "Eastern Europe                  5144\n",
       "North America                   3456\n",
       "East Asia                        802\n",
       "Central Asia                     563\n",
       "Australasia & Oceania            282\n",
       "Name: Region, dtype: int64"
      ]
     },
     "execution_count": 16,
     "metadata": {},
     "output_type": "execute_result"
    }
   ],
   "source": [
    "df['Region'].value_counts()"
   ]
  },
  {
   "cell_type": "code",
   "execution_count": 17,
   "metadata": {
    "scrolled": false
   },
   "outputs": [
    {
     "data": {
      "text/plain": [
       "Text(0, 0.5, 'Number of Attacks')"
      ]
     },
     "execution_count": 17,
     "metadata": {},
     "output_type": "execute_result"
    },
    {
     "data": {
      "image/png": "[encoded data removed]",
      "text/plain": [
       "<Figure size 1080x432 with 1 Axes>"
      ]
     },
     "metadata": {
      "needs_background": "light"
     },
     "output_type": "display_data"
    }
   ],
   "source": [
    "plt.figure(figsize=(15, 6))\n",
    "sns.countplot(df['Region'])\n",
    "plt.xticks(rotation = 90)\n",
    "plt.ylabel(\"Number of Attacks\")"
   ]
  },
  {
   "cell_type": "markdown",
   "metadata": {},
   "source": [
    "### Middle East & north Africa and South Asia are the most affected region."
   ]
  },
  {
   "cell_type": "code",
   "execution_count": 18,
   "metadata": {},
   "outputs": [
    {
     "data": {
      "text/plain": [
       "Unknown           9775\n",
       "Baghdad           7589\n",
       "Karachi           2652\n",
       "Lima              2359\n",
       "Mosul             2265\n",
       "Belfast           2171\n",
       "Santiago          1621\n",
       "Mogadishu         1581\n",
       "San Salvador      1558\n",
       "Istanbul          1048\n",
       "Athens            1019\n",
       "Bogota             984\n",
       "Kirkuk             925\n",
       "Beirut             918\n",
       "Medellin           848\n",
       "Benghazi           840\n",
       "Peshawar           819\n",
       "Quetta             803\n",
       "Guatemala City     755\n",
       "Baqubah            745\n",
       "Name: City, dtype: int64"
      ]
     },
     "execution_count": 18,
     "metadata": {},
     "output_type": "execute_result"
    }
   ],
   "source": [
    "df['City'].value_counts()[:20]"
   ]
  },
  {
   "cell_type": "markdown",
   "metadata": {},
   "source": [
    "## Number of attacks by Groups"
   ]
  },
  {
   "cell_type": "code",
   "execution_count": 19,
   "metadata": {
    "scrolled": false
   },
   "outputs": [
    {
     "data": {
      "text/plain": [
       "Text(0.5, 0, 'Number of attacks')"
      ]
     },
     "execution_count": 19,
     "metadata": {},
     "output_type": "execute_result"
    },
    {
     "data": {
      "image/png": "[encoded data removed]",
      "text/plain": [
       "<Figure size 1080x648 with 1 Axes>"
      ]
     },
     "metadata": {
      "needs_background": "light"
     },
     "output_type": "display_data"
    }
   ],
   "source": [
    "plt.figure(figsize=(15, 9))\n",
    "df['City'].value_counts()[:20].plot(kind = 'barh')\n",
    "plt.xlabel(\"Number of attacks\")\n"
   ]
  },
  {
   "cell_type": "markdown",
   "metadata": {},
   "source": [
    "### Majority of the attacks are from unknown groups.\n",
    "### Baghdad and Karachi are at top after unknown groups."
   ]
  },
  {
   "cell_type": "code",
   "execution_count": 20,
   "metadata": {
    "scrolled": false
   },
   "outputs": [
    {
     "data": {
      "text/plain": [
       "Bombing/Explosion                      88255\n",
       "Armed Assault                          42669\n",
       "Assassination                          19312\n",
       "Hostage Taking (Kidnapping)            11158\n",
       "Facility/Infrastructure Attack         10356\n",
       "Unknown                                 7276\n",
       "Unarmed Assault                         1015\n",
       "Hostage Taking (Barricade Incident)      991\n",
       "Hijacking                                659\n",
       "Name: AttackType, dtype: int64"
      ]
     },
     "execution_count": 20,
     "metadata": {},
     "output_type": "execute_result"
    }
   ],
   "source": [
    "df['AttackType'].value_counts()"
   ]
  },
  {
   "cell_type": "markdown",
   "metadata": {},
   "source": [
    "## Type of Attacks"
   ]
  },
  {
   "cell_type": "code",
   "execution_count": 21,
   "metadata": {
    "scrolled": false
   },
   "outputs": [
    {
     "data": {
      "text/plain": [
       "<matplotlib.axes._subplots.AxesSubplot at 0x26a2b30d9c8>"
      ]
     },
     "execution_count": 21,
     "metadata": {},
     "output_type": "execute_result"
    },
    {
     "data": {
      "image/png": "[encoded data removed]",
      "text/plain": [
       "<Figure size 720x720 with 1 Axes>"
      ]
     },
     "metadata": {},
     "output_type": "display_data"
    }
   ],
   "source": [
    "plt.figure(figsize=(10, 10))\n",
    "df['AttackType'].value_counts().plot.pie(autopct = '%1.1f%%')"
   ]
  },
  {
   "cell_type": "markdown",
   "metadata": {},
   "source": [
    "### Bombing and Army assault are most chosen attack types"
   ]
  },
  {
   "cell_type": "code",
   "execution_count": 22,
   "metadata": {},
   "outputs": [
    {
     "data": {
      "text/plain": [
       "411868.0"
      ]
     },
     "execution_count": 22,
     "metadata": {},
     "output_type": "execute_result"
    }
   ],
   "source": [
    "sum(df['Killed'].dropna())"
   ]
  },
  {
   "cell_type": "code",
   "execution_count": 23,
   "metadata": {},
   "outputs": [
    {
     "data": {
      "text/plain": [
       "523869.0"
      ]
     },
     "execution_count": 23,
     "metadata": {},
     "output_type": "execute_result"
    }
   ],
   "source": [
    "sum(df['Wounded'].dropna())"
   ]
  },
  {
   "cell_type": "markdown",
   "metadata": {},
   "source": [
    "## Most affected Indian Cities"
   ]
  },
  {
   "cell_type": "code",
   "execution_count": 61,
   "metadata": {
    "scrolled": true
   },
   "outputs": [
    {
     "data": {
      "text/html": [
       "<div>\n",
       "<style scoped>\n",
       "    .dataframe tbody tr th:only-of-type {\n",
       "        vertical-align: middle;\n",
       "    }\n",
       "\n",
       "    .dataframe tbody tr th {\n",
       "        vertical-align: top;\n",
       "    }\n",
       "\n",
       "    .dataframe thead th {\n",
       "        text-align: right;\n",
       "    }\n",
       "</style>\n",
       "<table border=\"1\" class=\"dataframe\">\n",
       "  <thead>\n",
       "    <tr style=\"text-align: right;\">\n",
       "      <th></th>\n",
       "      <th>City</th>\n",
       "      <th>Attacks</th>\n",
       "    </tr>\n",
       "  </thead>\n",
       "  <tbody>\n",
       "    <tr>\n",
       "      <th>0</th>\n",
       "      <td>Srinagar</td>\n",
       "      <td>658</td>\n",
       "    </tr>\n",
       "    <tr>\n",
       "      <th>1</th>\n",
       "      <td>Unknown</td>\n",
       "      <td>624</td>\n",
       "    </tr>\n",
       "    <tr>\n",
       "      <th>2</th>\n",
       "      <td>Imphal</td>\n",
       "      <td>426</td>\n",
       "    </tr>\n",
       "    <tr>\n",
       "      <th>3</th>\n",
       "      <td>New Delhi</td>\n",
       "      <td>157</td>\n",
       "    </tr>\n",
       "    <tr>\n",
       "      <th>4</th>\n",
       "      <td>Amritsar</td>\n",
       "      <td>138</td>\n",
       "    </tr>\n",
       "  </tbody>\n",
       "</table>\n",
       "</div>"
      ],
      "text/plain": [
       "        City  Attacks\n",
       "0   Srinagar      658\n",
       "1    Unknown      624\n",
       "2     Imphal      426\n",
       "3  New Delhi      157\n",
       "4   Amritsar      138"
      ]
     },
     "execution_count": 61,
     "metadata": {},
     "output_type": "execute_result"
    }
   ],
   "source": [
    "country_df = df[df['Country']=='India']\n",
    "India = pd.DataFrame(country_df['City'].value_counts()[:20]).reset_index()\n",
    "India = India.rename(columns = {'index' : 'City', 'City' : 'Attacks'})\n",
    "india.head()"
   ]
  },
  {
   "cell_type": "code",
   "execution_count": 64,
   "metadata": {},
   "outputs": [
    {
     "data": {
      "text/plain": [
       "(array([ 0,  1,  2,  3,  4,  5,  6,  7,  8,  9, 10, 11, 12, 13, 14, 15, 16,\n",
       "        17, 18, 19]),\n",
       " <a list of 20 Text xticklabel objects>)"
      ]
     },
     "execution_count": 64,
     "metadata": {},
     "output_type": "execute_result"
    },
    {
     "data": {
      "image/png": "[encoded data removed]",
      "text/plain": [
       "<Figure size 1080x648 with 1 Axes>"
      ]
     },
     "metadata": {
      "needs_background": "light"
     },
     "output_type": "display_data"
    }
   ],
   "source": [
    "plt.figure(figsize=(15, 9))\n",
    "sns.barplot(data = India, x = 'City', y = 'Attacks')\n",
    "plt.xticks(rotation = 90)\n"
   ]
  },
  {
   "cell_type": "markdown",
   "metadata": {},
   "source": [
    "###  Srinagar and Imphal are worst affected."
   ]
  },
  {
   "cell_type": "markdown",
   "metadata": {},
   "source": [
    "## Target of terrorists"
   ]
  },
  {
   "cell_type": "code",
   "execution_count": 27,
   "metadata": {
    "scrolled": false
   },
   "outputs": [
    {
     "data": {
      "text/plain": [
       "<matplotlib.axes._subplots.AxesSubplot at 0x26a2bb57588>"
      ]
     },
     "execution_count": 27,
     "metadata": {},
     "output_type": "execute_result"
    },
    {
     "data": {
      "image/png": "[encoded data removed]",
      "text/plain": [
       "<Figure size 1080x648 with 1 Axes>"
      ]
     },
     "metadata": {
      "needs_background": "light"
     },
     "output_type": "display_data"
    }
   ],
   "source": [
    "plt.figure(figsize=(15, 9))\n",
    "df['Target'].value_counts()[:20].plot(kind  = 'bar')"
   ]
  },
  {
   "cell_type": "markdown",
   "metadata": {},
   "source": [
    "### Civilians and Soliders are most targeted by terrorists"
   ]
  },
  {
   "cell_type": "markdown",
   "metadata": {},
   "source": [
    "##  Target types"
   ]
  },
  {
   "cell_type": "code",
   "execution_count": 30,
   "metadata": {},
   "outputs": [
    {
     "data": {
      "text/plain": [
       "Private Citizens & Property       43511\n",
       "Military                          27984\n",
       "Police                            24506\n",
       "Government (General)              21283\n",
       "Business                          20669\n",
       "Transportation                     6799\n",
       "Utilities                          6023\n",
       "Unknown                            5898\n",
       "Religious Figures/Institutions     4440\n",
       "Educational Institution            4322\n",
       "Government (Diplomatic)            3573\n",
       "Terrorists/Non-State Militia       3039\n",
       "Journalists & Media                2948\n",
       "Violent Political Party            1866\n",
       "Airports & Aircraft                1343\n",
       "Telecommunication                  1009\n",
       "NGO                                 970\n",
       "Tourists                            440\n",
       "Maritime                            351\n",
       "Food or Water Supply                317\n",
       "Abortion Related                    263\n",
       "Other                               137\n",
       "Name: Target_type, dtype: int64"
      ]
     },
     "execution_count": 30,
     "metadata": {},
     "output_type": "execute_result"
    }
   ],
   "source": [
    "df['Target_type'].value_counts()"
   ]
  },
  {
   "cell_type": "code",
   "execution_count": 31,
   "metadata": {},
   "outputs": [
    {
     "data": {
      "text/plain": [
       "(array([ 0,  1,  2,  3,  4,  5,  6,  7,  8,  9, 10, 11, 12, 13, 14, 15, 16,\n",
       "        17, 18, 19, 20, 21]),\n",
       " <a list of 22 Text xticklabel objects>)"
      ]
     },
     "execution_count": 31,
     "metadata": {},
     "output_type": "execute_result"
    },
    {
     "data": {
      "image/png": "[encoded data removed]",
      "text/plain": [
       "<Figure size 1080x648 with 1 Axes>"
      ]
     },
     "metadata": {
      "needs_background": "light"
     },
     "output_type": "display_data"
    }
   ],
   "source": [
    "plt.figure(figsize=(15, 9))\n",
    "sns.countplot(df['Target_type'])\n",
    "plt.xticks(rotation = 90)\n"
   ]
  },
  {
   "cell_type": "code",
   "execution_count": 32,
   "metadata": {},
   "outputs": [
    {
     "data": {
      "text/plain": [
       "Explosives                                                                     92426\n",
       "Firearms                                                                       58524\n",
       "Unknown                                                                        15157\n",
       "Incendiary                                                                     11135\n",
       "Melee                                                                           3655\n",
       "Chemical                                                                         321\n",
       "Sabotage Equipment                                                               141\n",
       "Vehicle (not to include vehicle-borne explosives, i.e., car or truck bombs)      136\n",
       "Other                                                                            114\n",
       "Biological                                                                        35\n",
       "Fake Weapons                                                                      33\n",
       "Radiological                                                                      14\n",
       "Name: Weapon_type, dtype: int64"
      ]
     },
     "execution_count": 32,
     "metadata": {},
     "output_type": "execute_result"
    }
   ],
   "source": [
    "df['Weapon_type'].value_counts()"
   ]
  },
  {
   "cell_type": "markdown",
   "metadata": {},
   "source": [
    "## Type of Weapon"
   ]
  },
  {
   "cell_type": "code",
   "execution_count": 33,
   "metadata": {},
   "outputs": [
    {
     "data": {
      "text/plain": [
       "(array([0, 1, 2, 3, 4]), <a list of 5 Text xticklabel objects>)"
      ]
     },
     "execution_count": 33,
     "metadata": {},
     "output_type": "execute_result"
    },
    {
     "data": {
      "image/png": "[encoded data removed]",
      "text/plain": [
       "<Figure size 1008x504 with 1 Axes>"
      ]
     },
     "metadata": {
      "needs_background": "light"
     },
     "output_type": "display_data"
    }
   ],
   "source": [
    "plt.figure(figsize=(14, 7))\n",
    "sns.countplot(df['Weapon_type'],  palette=\"rocket\",\n",
    "              order=df['Weapon_type'].value_counts().iloc[:5].index)\n",
    "plt.xticks(rotation = 90)"
   ]
  },
  {
   "cell_type": "markdown",
   "metadata": {},
   "source": [
    "### Explosives and firearms are majorily responsible"
   ]
  },
  {
   "cell_type": "code",
   "execution_count": 34,
   "metadata": {
    "scrolled": false
   },
   "outputs": [
    {
     "data": {
      "text/html": [
       "<div>\n",
       "<style scoped>\n",
       "    .dataframe tbody tr th:only-of-type {\n",
       "        vertical-align: middle;\n",
       "    }\n",
       "\n",
       "    .dataframe tbody tr th {\n",
       "        vertical-align: top;\n",
       "    }\n",
       "\n",
       "    .dataframe thead th {\n",
       "        text-align: right;\n",
       "    }\n",
       "</style>\n",
       "<table border=\"1\" class=\"dataframe\">\n",
       "  <thead>\n",
       "    <tr style=\"text-align: right;\">\n",
       "      <th></th>\n",
       "      <th>Year</th>\n",
       "      <th>Month</th>\n",
       "      <th>Day</th>\n",
       "      <th>Country</th>\n",
       "      <th>Region</th>\n",
       "      <th>City</th>\n",
       "      <th>latitude</th>\n",
       "      <th>longitude</th>\n",
       "      <th>AttackType</th>\n",
       "      <th>Killed</th>\n",
       "      <th>Wounded</th>\n",
       "      <th>Casualities</th>\n",
       "      <th>Target</th>\n",
       "      <th>Group</th>\n",
       "      <th>Target_type</th>\n",
       "      <th>Weapon_type</th>\n",
       "    </tr>\n",
       "  </thead>\n",
       "  <tbody>\n",
       "    <tr>\n",
       "      <th>2854</th>\n",
       "      <td>1975</td>\n",
       "      <td>3</td>\n",
       "      <td>1</td>\n",
       "      <td>Iraq</td>\n",
       "      <td>Middle East &amp; North Africa</td>\n",
       "      <td>Mosul</td>\n",
       "      <td>36.354145</td>\n",
       "      <td>43.143570</td>\n",
       "      <td>Hijacking</td>\n",
       "      <td>0.0</td>\n",
       "      <td>1.0</td>\n",
       "      <td>1.0</td>\n",
       "      <td>B-737</td>\n",
       "      <td>Unknown</td>\n",
       "      <td>Airports &amp; Aircraft</td>\n",
       "      <td>Unknown</td>\n",
       "    </tr>\n",
       "    <tr>\n",
       "      <th>4385</th>\n",
       "      <td>1976</td>\n",
       "      <td>12</td>\n",
       "      <td>15</td>\n",
       "      <td>Iraq</td>\n",
       "      <td>Middle East &amp; North Africa</td>\n",
       "      <td>Baghdad</td>\n",
       "      <td>33.303566</td>\n",
       "      <td>44.371773</td>\n",
       "      <td>Bombing/Explosion</td>\n",
       "      <td>10.0</td>\n",
       "      <td>285.0</td>\n",
       "      <td>295.0</td>\n",
       "      <td>Airport terminal</td>\n",
       "      <td>Unknown</td>\n",
       "      <td>Airports &amp; Aircraft</td>\n",
       "      <td>Explosives</td>\n",
       "    </tr>\n",
       "    <tr>\n",
       "      <th>4393</th>\n",
       "      <td>1976</td>\n",
       "      <td>12</td>\n",
       "      <td>18</td>\n",
       "      <td>Iraq</td>\n",
       "      <td>Middle East &amp; North Africa</td>\n",
       "      <td>Penjwon</td>\n",
       "      <td>NaN</td>\n",
       "      <td>NaN</td>\n",
       "      <td>Hostage Taking (Kidnapping)</td>\n",
       "      <td>0.0</td>\n",
       "      <td>0.0</td>\n",
       "      <td>0.0</td>\n",
       "      <td>agricultural experts in NE Iraq</td>\n",
       "      <td>Kurdish Democratic Party-Iraq (KDP)</td>\n",
       "      <td>Government (General)</td>\n",
       "      <td>Unknown</td>\n",
       "    </tr>\n",
       "    <tr>\n",
       "      <th>4402</th>\n",
       "      <td>1976</td>\n",
       "      <td>12</td>\n",
       "      <td>24</td>\n",
       "      <td>Iraq</td>\n",
       "      <td>Middle East &amp; North Africa</td>\n",
       "      <td>Baghdad</td>\n",
       "      <td>33.303566</td>\n",
       "      <td>44.371773</td>\n",
       "      <td>Assassination</td>\n",
       "      <td>2.0</td>\n",
       "      <td>0.0</td>\n",
       "      <td>2.0</td>\n",
       "      <td>Personnel</td>\n",
       "      <td>Unknown</td>\n",
       "      <td>Violent Political Party</td>\n",
       "      <td>Firearms</td>\n",
       "    </tr>\n",
       "    <tr>\n",
       "      <th>8688</th>\n",
       "      <td>1979</td>\n",
       "      <td>6</td>\n",
       "      <td>15</td>\n",
       "      <td>Iraq</td>\n",
       "      <td>Middle East &amp; North Africa</td>\n",
       "      <td>Basra</td>\n",
       "      <td>30.510054</td>\n",
       "      <td>47.778095</td>\n",
       "      <td>Assassination</td>\n",
       "      <td>1.0</td>\n",
       "      <td>0.0</td>\n",
       "      <td>1.0</td>\n",
       "      <td>local secretary</td>\n",
       "      <td>Unknown</td>\n",
       "      <td>Government (General)</td>\n",
       "      <td>Unknown</td>\n",
       "    </tr>\n",
       "  </tbody>\n",
       "</table>\n",
       "</div>"
      ],
      "text/plain": [
       "      Year  Month  Day Country                      Region     City  \\\n",
       "2854  1975      3    1    Iraq  Middle East & North Africa    Mosul   \n",
       "4385  1976     12   15    Iraq  Middle East & North Africa  Baghdad   \n",
       "4393  1976     12   18    Iraq  Middle East & North Africa  Penjwon   \n",
       "4402  1976     12   24    Iraq  Middle East & North Africa  Baghdad   \n",
       "8688  1979      6   15    Iraq  Middle East & North Africa    Basra   \n",
       "\n",
       "       latitude  longitude                   AttackType  Killed  Wounded  \\\n",
       "2854  36.354145  43.143570                    Hijacking     0.0      1.0   \n",
       "4385  33.303566  44.371773            Bombing/Explosion    10.0    285.0   \n",
       "4393        NaN        NaN  Hostage Taking (Kidnapping)     0.0      0.0   \n",
       "4402  33.303566  44.371773                Assassination     2.0      0.0   \n",
       "8688  30.510054  47.778095                Assassination     1.0      0.0   \n",
       "\n",
       "      Casualities                           Target  \\\n",
       "2854          1.0                            B-737   \n",
       "4385        295.0                 Airport terminal   \n",
       "4393          0.0  agricultural experts in NE Iraq   \n",
       "4402          2.0                        Personnel   \n",
       "8688          1.0                  local secretary   \n",
       "\n",
       "                                    Group              Target_type Weapon_type  \n",
       "2854                              Unknown      Airports & Aircraft     Unknown  \n",
       "4385                              Unknown      Airports & Aircraft  Explosives  \n",
       "4393  Kurdish Democratic Party-Iraq (KDP)     Government (General)     Unknown  \n",
       "4402                              Unknown  Violent Political Party    Firearms  \n",
       "8688                              Unknown     Government (General)     Unknown  "
      ]
     },
     "execution_count": 34,
     "metadata": {},
     "output_type": "execute_result"
    }
   ],
   "source": [
    "Iraq = df[df['Country'] == 'Iraq']\n",
    "Iraq.head()"
   ]
  },
  {
   "cell_type": "markdown",
   "metadata": {},
   "source": [
    "## Number of terrorists activities in Iraq(vs Year)"
   ]
  },
  {
   "cell_type": "code",
   "execution_count": 35,
   "metadata": {},
   "outputs": [
    {
     "data": {
      "text/plain": [
       "<matplotlib.axes._subplots.AxesSubplot at 0x26a2c3ed2c8>"
      ]
     },
     "execution_count": 35,
     "metadata": {},
     "output_type": "execute_result"
    },
    {
     "data": {
      "image/png": "[encoded data removed]",
      "text/plain": [
       "<Figure size 1008x504 with 1 Axes>"
      ]
     },
     "metadata": {
      "needs_background": "light"
     },
     "output_type": "display_data"
    }
   ],
   "source": [
    "plt.figure(figsize=(14, 7))\n",
    "sns.lineplot(data = Iraq, x = 'Year', y = 'Killed', color = 'red')"
   ]
  },
  {
   "cell_type": "markdown",
   "metadata": {},
   "source": [
    "### Number of people killed "
   ]
  },
  {
   "cell_type": "code",
   "execution_count": 36,
   "metadata": {},
   "outputs": [
    {
     "data": {
      "text/plain": [
       "(array([ 0,  1,  2,  3,  4,  5,  6,  7,  8,  9, 10, 11, 12, 13, 14, 15, 16,\n",
       "        17, 18, 19, 20, 21, 22, 23, 24, 25, 26, 27, 28, 29, 30, 31, 32, 33,\n",
       "        34, 35, 36, 37, 38, 39, 40, 41, 42, 43, 44, 45, 46]),\n",
       " <a list of 47 Text xticklabel objects>)"
      ]
     },
     "execution_count": 36,
     "metadata": {},
     "output_type": "execute_result"
    },
    {
     "data": {
      "image/png": "[encoded data removed]",
      "text/plain": [
       "<Figure size 1152x504 with 1 Axes>"
      ]
     },
     "metadata": {
      "needs_background": "light"
     },
     "output_type": "display_data"
    }
   ],
   "source": [
    "plt.figure(figsize=(16, 7))\n",
    "sns.barplot(data = df, x = 'Year', y = 'Killed', palette=\"Blues_d\")\n",
    "plt.xticks(rotation = 45)\n"
   ]
  },
  {
   "cell_type": "markdown",
   "metadata": {},
   "source": [
    "## Number of people killed vs Region"
   ]
  },
  {
   "cell_type": "code",
   "execution_count": 37,
   "metadata": {},
   "outputs": [
    {
     "data": {
      "text/plain": [
       "(array([ 0,  1,  2,  3,  4,  5,  6,  7,  8,  9, 10, 11]),\n",
       " <a list of 12 Text xticklabel objects>)"
      ]
     },
     "execution_count": 37,
     "metadata": {},
     "output_type": "execute_result"
    },
    {
     "data": {
      "image/png": "[encoded data removed]",
      "text/plain": [
       "<Figure size 1152x504 with 1 Axes>"
      ]
     },
     "metadata": {
      "needs_background": "light"
     },
     "output_type": "display_data"
    }
   ],
   "source": [
    "plt.figure(figsize=(16, 7))\n",
    "sns.barplot(data = df, x = 'Region', y = 'Killed',color=\"salmon\", saturation=.8)\n",
    "plt.xticks(rotation = 90)\n"
   ]
  },
  {
   "cell_type": "code",
   "execution_count": 39,
   "metadata": {},
   "outputs": [
    {
     "data": {
      "text/plain": [
       "['Dominican Republic',\n",
       " 'Mexico',\n",
       " 'Philippines',\n",
       " 'Greece',\n",
       " 'Japan',\n",
       " 'United States',\n",
       " 'Uruguay',\n",
       " 'Italy',\n",
       " 'East Germany (GDR)',\n",
       " 'Ethiopia',\n",
       " 'Guatemala',\n",
       " 'Venezuela',\n",
       " 'West Germany (FRG)',\n",
       " 'Switzerland',\n",
       " 'Jordan',\n",
       " 'Spain',\n",
       " 'Brazil',\n",
       " 'Egypt',\n",
       " 'Argentina',\n",
       " 'Lebanon',\n",
       " 'Ireland',\n",
       " 'Turkey',\n",
       " 'Paraguay',\n",
       " 'Iran',\n",
       " 'United Kingdom',\n",
       " 'Colombia',\n",
       " 'Bolivia',\n",
       " 'Nicaragua',\n",
       " 'Netherlands',\n",
       " 'Belgium',\n",
       " 'Canada',\n",
       " 'Australia',\n",
       " 'Pakistan',\n",
       " 'Zambia',\n",
       " 'Sweden',\n",
       " 'Costa Rica',\n",
       " 'South Yemen',\n",
       " 'Cambodia',\n",
       " 'Israel',\n",
       " 'Poland',\n",
       " 'Taiwan',\n",
       " 'Panama',\n",
       " 'Kuwait',\n",
       " 'West Bank and Gaza Strip',\n",
       " 'Austria',\n",
       " 'Czechoslovakia',\n",
       " 'India',\n",
       " 'France',\n",
       " 'South Vietnam',\n",
       " 'Brunei',\n",
       " 'Zaire',\n",
       " \"People's Republic of the Congo\",\n",
       " 'Portugal',\n",
       " 'Algeria',\n",
       " 'El Salvador',\n",
       " 'Thailand',\n",
       " 'Haiti',\n",
       " 'Sudan',\n",
       " 'Morocco',\n",
       " 'Cyprus',\n",
       " 'Myanmar',\n",
       " 'Afghanistan',\n",
       " 'Peru',\n",
       " 'Chile',\n",
       " 'Honduras',\n",
       " 'Yugoslavia',\n",
       " 'Ecuador',\n",
       " 'New Zealand',\n",
       " 'Malaysia',\n",
       " 'Singapore',\n",
       " 'Botswana',\n",
       " 'Jamaica',\n",
       " 'Chad',\n",
       " 'North Yemen',\n",
       " 'Andorra',\n",
       " 'Syria',\n",
       " 'South Korea',\n",
       " 'United Arab Emirates',\n",
       " 'South Africa',\n",
       " 'Kenya',\n",
       " 'Iraq',\n",
       " 'Somalia',\n",
       " 'Tanzania',\n",
       " 'Sri Lanka',\n",
       " 'Namibia',\n",
       " 'Bahamas',\n",
       " 'Nigeria',\n",
       " 'Barbados',\n",
       " 'Trinidad and Tobago',\n",
       " 'Bangladesh',\n",
       " 'Angola',\n",
       " 'Mauritania',\n",
       " 'Saudi Arabia',\n",
       " 'Djibouti',\n",
       " 'Indonesia',\n",
       " 'Malta',\n",
       " 'Rhodesia',\n",
       " 'Soviet Union',\n",
       " 'Denmark',\n",
       " 'Western Sahara',\n",
       " 'Guyana',\n",
       " 'Mozambique',\n",
       " 'Tunisia',\n",
       " 'Uganda',\n",
       " 'Norway',\n",
       " 'Lesotho',\n",
       " 'Gabon',\n",
       " 'Libya',\n",
       " 'Bahrain',\n",
       " 'Hong Kong',\n",
       " 'Senegal',\n",
       " 'Zimbabwe',\n",
       " 'Guinea',\n",
       " 'Grenada',\n",
       " 'New Hebrides',\n",
       " 'Belize',\n",
       " 'Guadeloupe',\n",
       " 'Martinique',\n",
       " 'Vatican City',\n",
       " 'Albania',\n",
       " 'Central African Republic',\n",
       " 'Seychelles',\n",
       " 'Dominica',\n",
       " 'Qatar',\n",
       " 'Bulgaria',\n",
       " 'Suriname',\n",
       " 'Swaziland',\n",
       " 'Luxembourg',\n",
       " 'Iceland',\n",
       " 'French Guiana',\n",
       " 'Falkland Islands',\n",
       " 'Burkina Faso',\n",
       " 'New Caledonia',\n",
       " 'Romania',\n",
       " 'Niger',\n",
       " 'Nepal',\n",
       " 'Togo',\n",
       " 'Finland',\n",
       " 'Fiji',\n",
       " 'Ghana',\n",
       " 'Maldives',\n",
       " 'Mauritius',\n",
       " 'Hungary',\n",
       " 'Laos',\n",
       " 'Papua New Guinea',\n",
       " 'China',\n",
       " 'Liberia',\n",
       " 'Republic of the Congo',\n",
       " 'Mali',\n",
       " 'Germany',\n",
       " 'Yemen',\n",
       " 'Rwanda',\n",
       " 'Sierra Leone',\n",
       " 'Cameroon',\n",
       " 'Cuba',\n",
       " 'Croatia',\n",
       " 'Georgia',\n",
       " 'Azerbaijan',\n",
       " 'Madagascar',\n",
       " 'Lithuania',\n",
       " 'Burundi',\n",
       " 'Ukraine',\n",
       " 'Moldova',\n",
       " 'Armenia',\n",
       " 'Russia',\n",
       " 'Ivory Coast',\n",
       " 'Kazakhstan',\n",
       " 'Antigua and Barbuda',\n",
       " 'Bosnia-Herzegovina',\n",
       " 'Equatorial Guinea',\n",
       " 'Tajikistan',\n",
       " 'Malawi',\n",
       " 'Uzbekistan',\n",
       " 'Latvia',\n",
       " 'Estonia',\n",
       " 'Vietnam',\n",
       " 'Comoros',\n",
       " 'Benin',\n",
       " 'Slovak Republic',\n",
       " 'Macedonia',\n",
       " 'Wallis and Futuna',\n",
       " 'Belarus',\n",
       " 'Czech Republic',\n",
       " 'Slovenia',\n",
       " 'Gambia',\n",
       " 'North Korea',\n",
       " 'Eritrea',\n",
       " 'St. Kitts and Nevis',\n",
       " 'French Polynesia',\n",
       " 'Macau',\n",
       " 'Kyrgyzstan',\n",
       " 'Vanuatu',\n",
       " 'Democratic Republic of the Congo',\n",
       " 'Kosovo',\n",
       " 'Solomon Islands',\n",
       " 'East Timor',\n",
       " 'St. Lucia',\n",
       " 'Guinea-Bissau',\n",
       " 'Montenegro',\n",
       " 'International',\n",
       " 'Turkmenistan',\n",
       " 'Serbia-Montenegro',\n",
       " 'Bhutan',\n",
       " 'Serbia',\n",
       " 'South Sudan']"
      ]
     },
     "execution_count": 39,
     "metadata": {},
     "output_type": "execute_result"
    }
   ],
   "source": [
    "countries_list = list(df['Country'].unique())\n",
    "countries_list"
   ]
  },
  {
   "cell_type": "code",
   "execution_count": 40,
   "metadata": {},
   "outputs": [],
   "source": [
    "no_of_killed = []\n",
    "for i in countries_list:\n",
    "    new_df = df[df['Country']== i]\n",
    "    no_of_killed.append(sum(new_df['Killed'].dropna()))"
   ]
  },
  {
   "cell_type": "code",
   "execution_count": 41,
   "metadata": {},
   "outputs": [
    {
     "data": {
      "text/plain": [
       "[34.0,\n",
       " 780.0,\n",
       " 9559.0,\n",
       " 325.0,\n",
       " 66.0,\n",
       " 3771.0,\n",
       " 6.0,\n",
       " 420.0,\n",
       " 2.0,\n",
       " 1765.0,\n",
       " 5167.0,\n",
       " 227.0,\n",
       " 97.0,\n",
       " 74.0,\n",
       " 133.0,\n",
       " 1288.0,\n",
       " 203.0,\n",
       " 3869.0,\n",
       " 490.0,\n",
       " 4061.0,\n",
       " 117.0,\n",
       " 6888.0,\n",
       " 59.0,\n",
       " 1673.0,\n",
       " 3410.0,\n",
       " 14698.0,\n",
       " 42.0,\n",
       " 10598.0,\n",
       " 37.0,\n",
       " 79.0,\n",
       " 365.0,\n",
       " 23.0,\n",
       " 23822.0,\n",
       " 70.0,\n",
       " 22.0,\n",
       " 17.0,\n",
       " 0.0,\n",
       " 543.0,\n",
       " 1703.0,\n",
       " 9.0,\n",
       " 60.0,\n",
       " 38.0,\n",
       " 63.0,\n",
       " 1500.0,\n",
       " 30.0,\n",
       " 27.0,\n",
       " 19341.0,\n",
       " 534.0,\n",
       " 81.0,\n",
       " 0.0,\n",
       " 324.0,\n",
       " 15.0,\n",
       " 32.0,\n",
       " 11066.0,\n",
       " 12053.0,\n",
       " 2742.0,\n",
       " 336.0,\n",
       " 3883.0,\n",
       " 292.0,\n",
       " 45.0,\n",
       " 1280.0,\n",
       " 39384.0,\n",
       " 12771.0,\n",
       " 228.0,\n",
       " 307.0,\n",
       " 119.0,\n",
       " 54.0,\n",
       " 1.0,\n",
       " 152.0,\n",
       " 5.0,\n",
       " 11.0,\n",
       " 42.0,\n",
       " 1119.0,\n",
       " 3.0,\n",
       " 0,\n",
       " 15229.0,\n",
       " 10.0,\n",
       " 123.0,\n",
       " 2674.0,\n",
       " 1948.0,\n",
       " 78589.0,\n",
       " 10273.0,\n",
       " 73.0,\n",
       " 15530.0,\n",
       " 220.0,\n",
       " 1.0,\n",
       " 22682.0,\n",
       " 76.0,\n",
       " 6.0,\n",
       " 1244.0,\n",
       " 3043.0,\n",
       " 43.0,\n",
       " 672.0,\n",
       " 274.0,\n",
       " 1238.0,\n",
       " 5.0,\n",
       " 217.0,\n",
       " 96.0,\n",
       " 5.0,\n",
       " 1.0,\n",
       " 41.0,\n",
       " 2711.0,\n",
       " 351.0,\n",
       " 3065.0,\n",
       " 79.0,\n",
       " 46.0,\n",
       " 6.0,\n",
       " 2598.0,\n",
       " 44.0,\n",
       " 4.0,\n",
       " 325.0,\n",
       " 154.0,\n",
       " 213.0,\n",
       " 9.0,\n",
       " 0.0,\n",
       " 3.0,\n",
       " 8.0,\n",
       " 0.0,\n",
       " 0.0,\n",
       " 42.0,\n",
       " 1990.0,\n",
       " 0.0,\n",
       " 3.0,\n",
       " 7.0,\n",
       " 28.0,\n",
       " 29.0,\n",
       " 6.0,\n",
       " 0.0,\n",
       " 0.0,\n",
       " 1.0,\n",
       " 0,\n",
       " 134.0,\n",
       " 35.0,\n",
       " 4.0,\n",
       " 1474.0,\n",
       " 1969.0,\n",
       " 76.0,\n",
       " 11.0,\n",
       " 8.0,\n",
       " 19.0,\n",
       " 20.0,\n",
       " 0.0,\n",
       " 6.0,\n",
       " 27.0,\n",
       " 79.0,\n",
       " 1008.0,\n",
       " 177.0,\n",
       " 182.0,\n",
       " 1432.0,\n",
       " 84.0,\n",
       " 8776.0,\n",
       " 3236.0,\n",
       " 840.0,\n",
       " 2347.0,\n",
       " 8.0,\n",
       " 248.0,\n",
       " 278.0,\n",
       " 258.0,\n",
       " 31.0,\n",
       " 1.0,\n",
       " 4205.0,\n",
       " 2261.0,\n",
       " 13.0,\n",
       " 37.0,\n",
       " 4308.0,\n",
       " 268.0,\n",
       " 39.0,\n",
       " 0,\n",
       " 79.0,\n",
       " 2.0,\n",
       " 307.0,\n",
       " 33.0,\n",
       " 68.0,\n",
       " 2.0,\n",
       " 3.0,\n",
       " 1.0,\n",
       " 1.0,\n",
       " 0.0,\n",
       " 7.0,\n",
       " 49.0,\n",
       " 0.0,\n",
       " 14.0,\n",
       " 6.0,\n",
       " 1.0,\n",
       " 13.0,\n",
       " 3.0,\n",
       " 46.0,\n",
       " 0.0,\n",
       " 0.0,\n",
       " 1.0,\n",
       " 10.0,\n",
       " 0.0,\n",
       " 4069.0,\n",
       " 83.0,\n",
       " 4.0,\n",
       " 9.0,\n",
       " 2.0,\n",
       " 17.0,\n",
       " 1.0,\n",
       " 1.0,\n",
       " 3.0,\n",
       " 3.0,\n",
       " 9.0,\n",
       " 3.0,\n",
       " 2634.0]"
      ]
     },
     "execution_count": 41,
     "metadata": {},
     "output_type": "execute_result"
    }
   ],
   "source": [
    "no_of_killed"
   ]
  },
  {
   "cell_type": "code",
   "execution_count": 42,
   "metadata": {},
   "outputs": [
    {
     "data": {
      "text/plain": [
       "{'Dominican Republic': 34.0,\n",
       " 'Mexico': 780.0,\n",
       " 'Philippines': 9559.0,\n",
       " 'Greece': 325.0,\n",
       " 'Japan': 66.0,\n",
       " 'United States': 3771.0,\n",
       " 'Uruguay': 6.0,\n",
       " 'Italy': 420.0,\n",
       " 'East Germany (GDR)': 2.0,\n",
       " 'Ethiopia': 1765.0,\n",
       " 'Guatemala': 5167.0,\n",
       " 'Venezuela': 227.0,\n",
       " 'West Germany (FRG)': 97.0,\n",
       " 'Switzerland': 74.0,\n",
       " 'Jordan': 133.0,\n",
       " 'Spain': 1288.0,\n",
       " 'Brazil': 203.0,\n",
       " 'Egypt': 3869.0,\n",
       " 'Argentina': 490.0,\n",
       " 'Lebanon': 4061.0,\n",
       " 'Ireland': 117.0,\n",
       " 'Turkey': 6888.0,\n",
       " 'Paraguay': 59.0,\n",
       " 'Iran': 1673.0,\n",
       " 'United Kingdom': 3410.0,\n",
       " 'Colombia': 14698.0,\n",
       " 'Bolivia': 42.0,\n",
       " 'Nicaragua': 10598.0,\n",
       " 'Netherlands': 37.0,\n",
       " 'Belgium': 79.0,\n",
       " 'Canada': 365.0,\n",
       " 'Australia': 23.0,\n",
       " 'Pakistan': 23822.0,\n",
       " 'Zambia': 70.0,\n",
       " 'Sweden': 22.0,\n",
       " 'Costa Rica': 17.0,\n",
       " 'South Yemen': 0.0,\n",
       " 'Cambodia': 543.0,\n",
       " 'Israel': 1703.0,\n",
       " 'Poland': 9.0,\n",
       " 'Taiwan': 60.0,\n",
       " 'Panama': 38.0,\n",
       " 'Kuwait': 63.0,\n",
       " 'West Bank and Gaza Strip': 1500.0,\n",
       " 'Austria': 30.0,\n",
       " 'Czechoslovakia': 27.0,\n",
       " 'India': 19341.0,\n",
       " 'France': 534.0,\n",
       " 'South Vietnam': 81.0,\n",
       " 'Brunei': 0.0,\n",
       " 'Zaire': 324.0,\n",
       " \"People's Republic of the Congo\": 15.0,\n",
       " 'Portugal': 32.0,\n",
       " 'Algeria': 11066.0,\n",
       " 'El Salvador': 12053.0,\n",
       " 'Thailand': 2742.0,\n",
       " 'Haiti': 336.0,\n",
       " 'Sudan': 3883.0,\n",
       " 'Morocco': 292.0,\n",
       " 'Cyprus': 45.0,\n",
       " 'Myanmar': 1280.0,\n",
       " 'Afghanistan': 39384.0,\n",
       " 'Peru': 12771.0,\n",
       " 'Chile': 228.0,\n",
       " 'Honduras': 307.0,\n",
       " 'Yugoslavia': 119.0,\n",
       " 'Ecuador': 54.0,\n",
       " 'New Zealand': 1.0,\n",
       " 'Malaysia': 152.0,\n",
       " 'Singapore': 5.0,\n",
       " 'Botswana': 11.0,\n",
       " 'Jamaica': 42.0,\n",
       " 'Chad': 1119.0,\n",
       " 'North Yemen': 3.0,\n",
       " 'Andorra': 0,\n",
       " 'Syria': 15229.0,\n",
       " 'South Korea': 10.0,\n",
       " 'United Arab Emirates': 123.0,\n",
       " 'South Africa': 2674.0,\n",
       " 'Kenya': 1948.0,\n",
       " 'Iraq': 78589.0,\n",
       " 'Somalia': 10273.0,\n",
       " 'Tanzania': 73.0,\n",
       " 'Sri Lanka': 15530.0,\n",
       " 'Namibia': 220.0,\n",
       " 'Bahamas': 1.0,\n",
       " 'Nigeria': 22682.0,\n",
       " 'Barbados': 76.0,\n",
       " 'Trinidad and Tobago': 6.0,\n",
       " 'Bangladesh': 1244.0,\n",
       " 'Angola': 3043.0,\n",
       " 'Mauritania': 43.0,\n",
       " 'Saudi Arabia': 672.0,\n",
       " 'Djibouti': 274.0,\n",
       " 'Indonesia': 1238.0,\n",
       " 'Malta': 5.0,\n",
       " 'Rhodesia': 217.0,\n",
       " 'Soviet Union': 96.0,\n",
       " 'Denmark': 5.0,\n",
       " 'Western Sahara': 1.0,\n",
       " 'Guyana': 41.0,\n",
       " 'Mozambique': 2711.0,\n",
       " 'Tunisia': 351.0,\n",
       " 'Uganda': 3065.0,\n",
       " 'Norway': 79.0,\n",
       " 'Lesotho': 46.0,\n",
       " 'Gabon': 6.0,\n",
       " 'Libya': 2598.0,\n",
       " 'Bahrain': 44.0,\n",
       " 'Hong Kong': 4.0,\n",
       " 'Senegal': 325.0,\n",
       " 'Zimbabwe': 154.0,\n",
       " 'Guinea': 213.0,\n",
       " 'Grenada': 9.0,\n",
       " 'New Hebrides': 0.0,\n",
       " 'Belize': 3.0,\n",
       " 'Guadeloupe': 8.0,\n",
       " 'Martinique': 0.0,\n",
       " 'Vatican City': 0.0,\n",
       " 'Albania': 42.0,\n",
       " 'Central African Republic': 1990.0,\n",
       " 'Seychelles': 0.0,\n",
       " 'Dominica': 3.0,\n",
       " 'Qatar': 7.0,\n",
       " 'Bulgaria': 28.0,\n",
       " 'Suriname': 29.0,\n",
       " 'Swaziland': 6.0,\n",
       " 'Luxembourg': 0.0,\n",
       " 'Iceland': 0.0,\n",
       " 'French Guiana': 1.0,\n",
       " 'Falkland Islands': 0,\n",
       " 'Burkina Faso': 134.0,\n",
       " 'New Caledonia': 35.0,\n",
       " 'Romania': 4.0,\n",
       " 'Niger': 1474.0,\n",
       " 'Nepal': 1969.0,\n",
       " 'Togo': 76.0,\n",
       " 'Finland': 11.0,\n",
       " 'Fiji': 8.0,\n",
       " 'Ghana': 19.0,\n",
       " 'Maldives': 20.0,\n",
       " 'Mauritius': 0.0,\n",
       " 'Hungary': 6.0,\n",
       " 'Laos': 27.0,\n",
       " 'Papua New Guinea': 79.0,\n",
       " 'China': 1008.0,\n",
       " 'Liberia': 177.0,\n",
       " 'Republic of the Congo': 182.0,\n",
       " 'Mali': 1432.0,\n",
       " 'Germany': 84.0,\n",
       " 'Yemen': 8776.0,\n",
       " 'Rwanda': 3236.0,\n",
       " 'Sierra Leone': 840.0,\n",
       " 'Cameroon': 2347.0,\n",
       " 'Cuba': 8.0,\n",
       " 'Croatia': 248.0,\n",
       " 'Georgia': 278.0,\n",
       " 'Azerbaijan': 258.0,\n",
       " 'Madagascar': 31.0,\n",
       " 'Lithuania': 1.0,\n",
       " 'Burundi': 4205.0,\n",
       " 'Ukraine': 2261.0,\n",
       " 'Moldova': 13.0,\n",
       " 'Armenia': 37.0,\n",
       " 'Russia': 4308.0,\n",
       " 'Ivory Coast': 268.0,\n",
       " 'Kazakhstan': 39.0,\n",
       " 'Antigua and Barbuda': 0,\n",
       " 'Bosnia-Herzegovina': 79.0,\n",
       " 'Equatorial Guinea': 2.0,\n",
       " 'Tajikistan': 307.0,\n",
       " 'Malawi': 33.0,\n",
       " 'Uzbekistan': 68.0,\n",
       " 'Latvia': 2.0,\n",
       " 'Estonia': 3.0,\n",
       " 'Vietnam': 1.0,\n",
       " 'Comoros': 1.0,\n",
       " 'Benin': 0.0,\n",
       " 'Slovak Republic': 7.0,\n",
       " 'Macedonia': 49.0,\n",
       " 'Wallis and Futuna': 0.0,\n",
       " 'Belarus': 14.0,\n",
       " 'Czech Republic': 6.0,\n",
       " 'Slovenia': 1.0,\n",
       " 'Gambia': 13.0,\n",
       " 'North Korea': 3.0,\n",
       " 'Eritrea': 46.0,\n",
       " 'St. Kitts and Nevis': 0.0,\n",
       " 'French Polynesia': 0.0,\n",
       " 'Macau': 1.0,\n",
       " 'Kyrgyzstan': 10.0,\n",
       " 'Vanuatu': 0.0,\n",
       " 'Democratic Republic of the Congo': 4069.0,\n",
       " 'Kosovo': 83.0,\n",
       " 'Solomon Islands': 4.0,\n",
       " 'East Timor': 9.0,\n",
       " 'St. Lucia': 2.0,\n",
       " 'Guinea-Bissau': 17.0,\n",
       " 'Montenegro': 1.0,\n",
       " 'International': 1.0,\n",
       " 'Turkmenistan': 3.0,\n",
       " 'Serbia-Montenegro': 3.0,\n",
       " 'Bhutan': 9.0,\n",
       " 'Serbia': 3.0,\n",
       " 'South Sudan': 2634.0}"
      ]
     },
     "execution_count": 42,
     "metadata": {},
     "output_type": "execute_result"
    }
   ],
   "source": [
    "res = dict(zip(countries_list, no_of_killed))\n",
    "res"
   ]
  },
  {
   "cell_type": "code",
   "execution_count": 43,
   "metadata": {},
   "outputs": [
    {
     "data": {
      "text/plain": [
       "{'Iraq': 78589.0,\n",
       " 'Afghanistan': 39384.0,\n",
       " 'Pakistan': 23822.0,\n",
       " 'Nigeria': 22682.0,\n",
       " 'India': 19341.0,\n",
       " 'Sri Lanka': 15530.0,\n",
       " 'Syria': 15229.0,\n",
       " 'Colombia': 14698.0,\n",
       " 'Peru': 12771.0,\n",
       " 'El Salvador': 12053.0,\n",
       " 'Algeria': 11066.0,\n",
       " 'Nicaragua': 10598.0,\n",
       " 'Somalia': 10273.0,\n",
       " 'Philippines': 9559.0,\n",
       " 'Yemen': 8776.0,\n",
       " 'Turkey': 6888.0,\n",
       " 'Guatemala': 5167.0,\n",
       " 'Russia': 4308.0,\n",
       " 'Burundi': 4205.0,\n",
       " 'Democratic Republic of the Congo': 4069.0,\n",
       " 'Lebanon': 4061.0,\n",
       " 'Sudan': 3883.0,\n",
       " 'Egypt': 3869.0,\n",
       " 'United States': 3771.0,\n",
       " 'United Kingdom': 3410.0,\n",
       " 'Rwanda': 3236.0,\n",
       " 'Uganda': 3065.0,\n",
       " 'Angola': 3043.0,\n",
       " 'Thailand': 2742.0,\n",
       " 'Mozambique': 2711.0,\n",
       " 'South Africa': 2674.0,\n",
       " 'South Sudan': 2634.0,\n",
       " 'Libya': 2598.0,\n",
       " 'Cameroon': 2347.0,\n",
       " 'Ukraine': 2261.0,\n",
       " 'Central African Republic': 1990.0,\n",
       " 'Nepal': 1969.0,\n",
       " 'Kenya': 1948.0,\n",
       " 'Ethiopia': 1765.0,\n",
       " 'Israel': 1703.0,\n",
       " 'Iran': 1673.0,\n",
       " 'West Bank and Gaza Strip': 1500.0,\n",
       " 'Niger': 1474.0,\n",
       " 'Mali': 1432.0,\n",
       " 'Spain': 1288.0,\n",
       " 'Myanmar': 1280.0,\n",
       " 'Bangladesh': 1244.0,\n",
       " 'Indonesia': 1238.0,\n",
       " 'Chad': 1119.0,\n",
       " 'China': 1008.0}"
      ]
     },
     "execution_count": 43,
     "metadata": {},
     "output_type": "execute_result"
    }
   ],
   "source": [
    "import operator\n",
    "sorted_d = sorted(res.items(), key=operator.itemgetter(1), reverse=True)\n",
    "sorted_d = dict(sorted_d)\n",
    "sorted_d = dict(list(sorted_d.items())[0: 50]) \n",
    "sorted_d"
   ]
  },
  {
   "cell_type": "markdown",
   "metadata": {},
   "source": [
    "## Number of people killed in Countries"
   ]
  },
  {
   "cell_type": "code",
   "execution_count": 44,
   "metadata": {},
   "outputs": [
    {
     "data": {
      "text/plain": [
       "<matplotlib.axes._subplots.AxesSubplot at 0x26a2d0da288>"
      ]
     },
     "execution_count": 44,
     "metadata": {},
     "output_type": "execute_result"
    },
    {
     "data": {
      "image/png": "[encoded data removed]",
      "text/plain": [
       "<Figure size 1152x504 with 1 Axes>"
      ]
     },
     "metadata": {
      "needs_background": "light"
     },
     "output_type": "display_data"
    }
   ],
   "source": [
    "keys = list(sorted_d.keys())\n",
    "vals = list(sorted_d.values())\n",
    "\n",
    "plt.figure(figsize=(16, 7))\n",
    "plt.xticks(rotation = 90)\n",
    "\n",
    "sns.barplot(x=keys, y=vals)\n"
   ]
  },
  {
   "cell_type": "code",
   "execution_count": 45,
   "metadata": {},
   "outputs": [
    {
     "data": {
      "image/png": "[encoded data removed]",
      "text/plain": [
       "<Figure size 1080x432 with 1 Axes>"
      ]
     },
     "metadata": {
      "needs_background": "light"
     },
     "output_type": "display_data"
    }
   ],
   "source": [
    "\n",
    "pd.crosstab(df.Year, df.Region).plot(kind='area',figsize=(15,6))\n",
    "plt.title('Terrorist Activities by Region in each Year')\n",
    "plt.ylabel('Number of Attacks')\n",
    "plt.show()"
   ]
  },
  {
   "cell_type": "markdown",
   "metadata": {},
   "source": [
    "# Conclusion"
   ]
  },
  {
   "cell_type": "markdown",
   "metadata": {},
   "source": [
    "### 1) Middle East and northern Africa had fatal consequences of terrorism.\n",
    "### 2) The Middle East and North Africa are worst hitted regions.\n",
    "### 3) Iraq, Afghanistan and Pakistan are the most damaged countries."
   ]
  },
  {
   "cell_type": "code",
   "execution_count": null,
   "metadata": {},
   "outputs": [],
   "source": []
  }
 ],
 "metadata": {
  "kernelspec": {
   "display_name": "Python 3",
   "language": "python",
   "name": "python3"
  },
  "language_info": {
   "codemirror_mode": {
    "name": "ipython",
    "version": 3
   },
   "file_extension": ".py",
   "mimetype": "text/x-python",
   "name": "python",
   "nbconvert_exporter": "python",
   "pygments_lexer": "ipython3",
   "version": "3.7.6"
  },
  "metadata": {
   "interpreter": {
    "hash": "a3949659082f76c3dce9af69e66ef5cf512c1e4dc52678c6ac146f322361f8d5"
   }
  }
 },
 "nbformat": 4,
 "nbformat_minor": 4
}
